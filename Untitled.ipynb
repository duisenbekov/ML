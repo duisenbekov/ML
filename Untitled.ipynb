{
 "cells": [
  {
   "cell_type": "code",
   "execution_count": 1,
   "metadata": {},
   "outputs": [
    {
     "ename": "SyntaxError",
     "evalue": "invalid syntax (<ipython-input-1-e3621d514f42>, line 18)",
     "output_type": "error",
     "traceback": [
      "\u001b[0;36m  File \u001b[0;32m\"<ipython-input-1-e3621d514f42>\"\u001b[0;36m, line \u001b[0;32m18\u001b[0m\n\u001b[0;31m    print sum*1.0/ len(dist)\u001b[0m\n\u001b[0m            ^\u001b[0m\n\u001b[0;31mSyntaxError\u001b[0m\u001b[0;31m:\u001b[0m invalid syntax\n"
     ]
    }
   ],
   "source": [
    "import numpy as np\n",
    "import pandas as pd\n",
    "import operator\n",
    "import math\n",
    "from sklearn.cross_validation import train_test_split\n",
    "data = pd.read_csv(\"2008.csv.bz2\")\n",
    "#print data.describe()\n",
    "dist = data['Distance']\n",
    "sum = 0\n",
    "mmin = 1111111\n",
    "mmax = -1\n",
    "for i in dist:\n",
    "    sum += i;\n",
    "    if (i > mmax):\n",
    "        mmax = i\n",
    "    if (i < mmin ):\n",
    "        mmin = i\n",
    "print sum * 1.0/ len(dist)\n",
    "print mmin \n",
    "print mmax\n"
   ]
  },
  {
   "cell_type": "code",
   "execution_count": 167,
   "metadata": {},
   "outputs": [
    {
     "name": "stdout",
     "output_type": "stream",
     "text": [
      "B\n"
     ]
    }
   ],
   "source": [
    "c_counts = pd.value_counts(data['CancellationCode'])\n",
    "mm = c_counts[0]\n",
    "for n, i in c_counts.items():\n",
    "    if (i == mm):\n",
    "        print n"
   ]
  },
  {
   "cell_type": "code",
   "execution_count": 168,
   "metadata": {},
   "outputs": [
    {
     "data": {
      "text/plain": [
       "2547298    4988\n",
       "4392215    5572\n",
       "Name: FlightNum, dtype: int64"
      ]
     },
     "execution_count": 168,
     "metadata": {},
     "output_type": "execute_result"
    }
   ],
   "source": [
    "datee = (data[\"Distance\"] == mmin)\n",
    "dateee = data[datee]\n",
    "dateee.loc[:, ['DayofMonth','Month','Year', 'FlightNum']]\n",
    "fN = dateee.loc[:, 'FlightNum']\n",
    "fN.head()"
   ]
  },
  {
   "cell_type": "code",
   "execution_count": 169,
   "metadata": {},
   "outputs": [
    {
     "name": "stdout",
     "output_type": "stream",
     "text": [
      "[834 834 834 834 834 834 834 834 834 834 834 834 834 834 834 834 834 834\n",
      " 834 834 834 834 834 834 834 834 834 834 834 834 834 834 834 834 834 834\n",
      " 834 834 834 834 834 834 834 834 834 834 834 834 834 834 834 834 834 834\n",
      " 834 834 834 834 834 834 834 834 834 834 834 834 834 834 834 834 834 834\n",
      " 834 834 834 834 834 834 834 834 834 834 834 834 834 834 834 834 834 834\n",
      " 834 834 834  96 834 834 834 834 834 834 834 834 834 834 834 834 834 834\n",
      " 834 834 834 834 834 834 834 834 834 834 834 834 834 834 834 834 834 834\n",
      " 834 834  11 834 834 834 414 223 223 223 223 223 223 223 223 223 223 223\n",
      " 712 712 712 712 321 321 321 321 321 321 321 321 321 321 321 321 321 321\n",
      " 321 321 321 321 903 903 903 903 903 903 903 903 903 903 903 903 903 903\n",
      " 903 903 903 903 903 903 903 903 903 903 903 903 903 903 903 903 903 903\n",
      " 903 903 903 903 903 903 903 903 903 903 903 903 903 903 903 903 903 903\n",
      " 903 903 903 903 903 903 903 903 903]\n",
      "[544 544 544 544 544 544 544 544 544 544 544 544 544 544 544 544 544 544\n",
      " 544 544 544 544 544 544 544 544 544 544 544 544 329 329 329 329 329 329\n",
      " 329 329 329 329 329 329 329 329 329 329 329 329 329 329 329 329 329 329\n",
      " 329 329 329 329 329 329 329 329 329 329 329 329 329 329 329 329 329 329\n",
      " 329 329 329 329 329 329 329 329 329 329 329 329 329 329 329 329 329 329\n",
      " 329 544 544 544 544 544 544 544 544 544 544 544 544 544 544 544 544 544\n",
      " 544 544 544 544 544 544 544 544 544 544 544 544 329 329 329 329 329 329\n",
      " 329 329 329 329 329 329 329 329 329 329 329 329 329 329 329 329 329 329\n",
      " 329 329 329 329 329 329 329 329 329 329 329 329 329 329 329 329 329 544\n",
      " 544 544 544 544 544 544 544 544 544 544 544 544 544 544 544 544 544 544\n",
      " 544 544 544 544 544 544 544 544 544 329 329 329 329 329 329 329 329 329\n",
      " 329 329 329 329 329 329 329 329 329 329 329 329 329 329 329 329 329 329\n",
      " 329 329 329 329 544 544 544 544 544 544 544 544 544 544 544 544 544 544\n",
      " 544 544 544 544 544 544 544 544 544 544 544 544 544 544 544 544 329 329\n",
      " 329 329 329 329 329 329 329 329 329 329 329 329 329 329 329 329 329 329\n",
      " 329 329 329 329 329 329 329 329 329 329 544 544 544 544 544 544 544 544\n",
      " 544 544 544 544 544 544 544 544 544 544 544 544 544 544 544 544 544 544\n",
      " 544 544 544 544 544 544 544 329 329 329 329 329 329 329 329 329 329 329\n",
      " 329 329 329 329 329 329 329 329 329 329 329 329 329 329 329 329 329 329\n",
      " 329 329 544 544 544 544 544 544 544 544 544 544 544 544 544 544 544 544\n",
      " 544 544 544 544 544 544 544 544 544 544 544 544 544 544 544 329 329 329\n",
      " 329 329 329 329 329 329 329 329 329 329 329 329 329 329 329 329 329 329\n",
      " 329 329 329 329 329 329 329 329 329 329 329 329 329 329 329 329 329 329\n",
      " 329 329 329 329 329 329 329 329 329 329 329 329 329 329 329 329 329 544\n",
      " 544 544 544 544 544 544 544 544 544 544 544 544 544 544 544 544 544 544\n",
      " 544 544 544 544 544 544 544 544 544 544 544 544 329 329 329 329 329 329\n",
      " 329 329 329 329 329 329 329 329 329 329 329 329 329 329 329 329 329 329\n",
      " 329 329 329 329 329 329 329 329 329 329 329 329 329 329 329 329 329 329\n",
      " 329 329 329 329 329 329 329 329 329 329 329 329 329 329 329 329 329 329\n",
      " 544 544 544 544 544 544 544 544 544 544  11 544 544 544 544 544 544 544\n",
      " 544 544 544 544 544 544 544 544 544 544 544 544 544 544 329 329 329 329\n",
      " 329 329 329 329 329 329 329 329 329 329 329 329 329 329 329 329 329 329\n",
      " 329 329 329 329 329 329 329 329 329 329 329 329 329 329 329 329 329 329\n",
      " 329 329 329 329 329 329 329 329 329 329 329 329 329 329 329 329 329 329\n",
      " 329 329 329 329 329 329 329 329 329 329 329 329 329 329 329 329 329 329\n",
      " 329 329 329 329 329 329 329 329 329 329 329 329 329 329 329 329 329 329\n",
      " 329 329 329 329 329 329 329 329 329 329 329 329 329 329 329 329 329 329\n",
      " 329 329 329 329 329 329 329 329 329 329 329 363 363 363 363 363 363 363\n",
      " 363 363 363 363 363 363 363 363 363 363 363 363 363 363 363 363 363 363\n",
      " 363 363 329 329 329 329 329 329 329 329 329 329 329 329 329 329 329 329\n",
      " 329 329 329 329 329 329 329 329 329 329 329 329 329 134 134 134 134 134\n",
      " 134 134 134 134 134 134 134 134 134 134 134 134 134 134 134 134 134 134\n",
      " 134 134 134 134 134 134 134 329 329 329 329 329 329 329 329 329 329 329\n",
      " 329 329 329 329 329 329 329 329 329 329 329 329 329 329 329 329 329 329\n",
      " 329 329 329 329 329 329 329 329 329 329 329 329 329 329 329 329 669 134\n",
      " 134 134 134 134 134 134 134 134 134 134 134 669 508 508 508 508]\n"
     ]
    }
   ],
   "source": [
    "for i in fN.values:\n",
    "    print data[data.FlightNum == i]['Distance'].values"
   ]
  },
  {
   "cell_type": "code",
   "execution_count": 170,
   "metadata": {},
   "outputs": [
    {
     "name": "stdout",
     "output_type": "stream",
     "text": [
      "414513\n"
     ]
    }
   ],
   "source": [
    "dat_counts = pd.value_counts(data['Origin'])\n",
    "print dat_counts.max()"
   ]
  },
  {
   "cell_type": "code",
   "execution_count": 171,
   "metadata": {},
   "outputs": [
    {
     "name": "stdout",
     "output_type": "stream",
     "text": [
      "SJU\n"
     ]
    }
   ],
   "source": [
    "Av = data.groupby('Origin')['AirTime'].mean()\n",
    "mx = -1;\n",
    "for name, i in  Av.items():\n",
    "    #print i \n",
    "    if (mx <= i):\n",
    "        mx = i\n",
    "        cur = name\n",
    "print cur"
   ]
  },
  {
   "cell_type": "code",
   "execution_count": 172,
   "metadata": {},
   "outputs": [
    {
     "data": {
      "text/plain": [
       "Origin\n",
       "ACK    29.854415\n",
       "PUB    27.000000\n",
       "CEC    24.186207\n",
       "PIR    22.800000\n",
       "SPI    22.314516\n",
       "AKN    21.938596\n",
       "OTH    21.765531\n",
       "LMT    20.046559\n",
       "ACY    18.548673\n",
       "EWR    18.285081\n",
       "ORD    17.291271\n",
       "CIC    17.157740\n",
       "EGE    16.519732\n",
       "DLG    16.495495\n",
       "BRW    16.331927\n",
       "RDD    16.140768\n",
       "MIA    15.881970\n",
       "TEX    15.856209\n",
       "SBN    15.399239\n",
       "ACV    15.202119\n",
       "EYW    15.173212\n",
       "HHH    14.930643\n",
       "STX    14.791667\n",
       "JNU    13.803717\n",
       "ADK    13.652174\n",
       "IAD    13.636258\n",
       "PSG    13.545845\n",
       "GUC    13.531148\n",
       "SFO    13.379122\n",
       "MOD    13.371594\n",
       "         ...    \n",
       "SMX     1.602914\n",
       "FCA     1.399416\n",
       "CPR     1.185864\n",
       "YKM     1.145401\n",
       "MSO     1.084158\n",
       "BIL     0.744400\n",
       "LWS     0.696923\n",
       "TWF     0.434856\n",
       "BPT     0.350195\n",
       "EKO     0.049581\n",
       "PSE     0.042953\n",
       "LIH     0.003746\n",
       "ITO    -0.149944\n",
       "SGU    -0.151903\n",
       "GTF    -0.499293\n",
       "PSC    -0.524322\n",
       "CDC    -0.701220\n",
       "HTS    -1.141935\n",
       "SUN    -1.231341\n",
       "OXR    -1.827044\n",
       "IYK    -1.911572\n",
       "IPL    -2.315897\n",
       "BJI    -2.698630\n",
       "BTM    -2.878261\n",
       "TUP    -3.800000\n",
       "COD    -3.973549\n",
       "PIH    -4.150092\n",
       "INL    -4.802817\n",
       "BLI    -5.529412\n",
       "WYS    -6.155894\n",
       "Name: DepDelay, Length: 303, dtype: float64"
      ]
     },
     "execution_count": 172,
     "metadata": {},
     "output_type": "execute_result"
    }
   ],
   "source": [
    "Depp = data.groupby('Origin').DepDelay.mean()\n",
    "Depp.sort_values(ascending=False, na_position='first')\n",
    "#data.groupby('Origin').DepDelay.mean()\n",
    "# Deppp = data[data.DepDelay>0].groupby('Origin')['DepDelay']\n",
    "\n",
    "#print S\n",
    "# data.groupby('Origin').filter(lambda x : len(x) > 1000)"
   ]
  },
  {
   "cell_type": "code",
   "execution_count": 173,
   "metadata": {},
   "outputs": [
    {
     "name": "stdout",
     "output_type": "stream",
     "text": [
      "ABE\n"
     ]
    }
   ],
   "source": [
    "ok = 0\n",
    "for name, i in Depp.items():\n",
    "    if (i > 0 ):\n",
    "            for n,j in dat_counts.items():\n",
    "                if (n == name and j > 1000 and (ok is 0)) :\n",
    "                        ok = 1\n",
    "                        print n\n",
    "       "
   ]
  },
  {
   "cell_type": "code",
   "execution_count": 174,
   "metadata": {},
   "outputs": [
    {
     "name": "stdout",
     "output_type": "stream",
     "text": [
      "ACTION 2\n",
      "RESOURCE 7518\n",
      "MGR_ID 4243\n",
      "ROLE_ROLLUP_1 128\n",
      "ROLE_ROLLUP_2 177\n",
      "ROLE_DEPTNAME 449\n",
      "ROLE_TITLE 343\n",
      "ROLE_FAMILY_DESC 2358\n",
      "ROLE_FAMILY 67\n",
      "ROLE_CODE 343\n"
     ]
    }
   ],
   "source": [
    "data = pd.read_csv('amazon.csv')\n",
    "data.head()\n",
    "data.shape\n",
    "data.ACTION.mean()\n",
    "for col_name in data.columns:\n",
    "    print col_name, len(data[col_name].unique())\n",
    "X_train, X_test, y_train, y_test = train_test_split(data.iloc[:, 1:], data.iloc[:, 0],\n",
    "                                                    test_size=0.3, random_state=241)"
   ]
  },
  {
   "cell_type": "code",
   "execution_count": 178,
   "metadata": {},
   "outputs": [],
   "source": [
    "Hash_sid = np.empty((9), dtype=dict)\n",
    "Hash_id = np.empty((9), dtype=dict)\n",
    "L = len(X_train)\n",
    "for i, feature in enumerate(X_train.columns):\n",
    "    Hash_sid[i] = {}\n",
    "    Hash_id[i] = {}\n",
    "    F = X_train[feature].value_counts()\n",
    "    feature_values = X_train[feature].unique()\n",
    "    for x in feature_values:\n",
    "        Hash_sid[i][x] = F[x] * (F[x] - 1) / (L * (L - 1))\n",
    "        Hash_id[i][x] = math.log(F[x] + 1)"
   ]
  },
  {
   "cell_type": "code",
   "execution_count": null,
   "metadata": {},
   "outputs": [],
   "source": []
  }
 ],
 "metadata": {
  "kernelspec": {
   "display_name": "Python 3",
   "language": "python",
   "name": "python3"
  },
  "language_info": {
   "codemirror_mode": {
    "name": "ipython",
    "version": 3
   },
   "file_extension": ".py",
   "mimetype": "text/x-python",
   "name": "python",
   "nbconvert_exporter": "python",
   "pygments_lexer": "ipython3",
   "version": "3.7.0"
  }
 },
 "nbformat": 4,
 "nbformat_minor": 2
}
