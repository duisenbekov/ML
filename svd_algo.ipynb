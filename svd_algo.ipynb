{
 "cells": [
  {
   "cell_type": "code",
   "execution_count": 1,
   "metadata": {},
   "outputs": [],
   "source": [
    "import numpy as np\n",
    "import random\n",
    "from scipy import linalg"
   ]
  },
  {
   "cell_type": "code",
   "execution_count": 2,
   "metadata": {},
   "outputs": [],
   "source": [
    "n = 3\n",
    "matrix = np.random.rand(n,n)"
   ]
  },
  {
   "cell_type": "code",
   "execution_count": 3,
   "metadata": {},
   "outputs": [],
   "source": [
    "transposed_m = matrix.transpose()\n",
    "\n",
    "prod_m = np.dot(matrix, transposed_m)\n",
    "\n",
    "E, U = linalg.eig(prod_m)\n",
    "\n",
    "E = np.diag(np.sqrt(E))\n",
    "\n",
    "V = transposed_m.dot(U).dot(np.linalg.inv(E))"
   ]
  },
  {
   "cell_type": "code",
   "execution_count": 4,
   "metadata": {},
   "outputs": [],
   "source": [
    "transposed_V = V.transpose()\n",
    "\n",
    "usvt = U.dot(E).dot(transposed_V)"
   ]
  },
  {
   "cell_type": "code",
   "execution_count": 5,
   "metadata": {},
   "outputs": [
    {
     "data": {
      "text/plain": [
       "array([[0.80293341+0.j, 0.9254184 +0.j, 0.32691593+0.j],\n",
       "       [0.52202368+0.j, 0.36963404+0.j, 0.86807844+0.j],\n",
       "       [0.31516976+0.j, 0.81097906+0.j, 0.90621549+0.j]])"
      ]
     },
     "execution_count": 5,
     "metadata": {},
     "output_type": "execute_result"
    }
   ],
   "source": [
    "usvt"
   ]
  }
 ],
 "metadata": {
  "kernelspec": {
   "display_name": "Python 3",
   "language": "python",
   "name": "python3"
  },
  "language_info": {
   "codemirror_mode": {
    "name": "ipython",
    "version": 3
   },
   "file_extension": ".py",
   "mimetype": "text/x-python",
   "name": "python",
   "nbconvert_exporter": "python",
   "pygments_lexer": "ipython3",
   "version": "3.6.6"
  }
 },
 "nbformat": 4,
 "nbformat_minor": 2
}
