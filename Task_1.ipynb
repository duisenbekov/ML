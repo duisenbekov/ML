{
 "cells": [
  {
   "cell_type": "code",
   "execution_count": 3,
   "metadata": {},
   "outputs": [
    {
     "name": "stdout",
     "output_type": "stream",
     "text": [
      "255\n",
      "(0.6603168897566213, 6) (0.716930741463851, 4)\n"
     ]
    }
   ],
   "source": [
    "import re\n",
    "from scipy.spatial import distance\n",
    "f = open(\"sentences.txt\", \"r\")\n",
    "m = {}\n",
    "mn = {}\n",
    "d = 0\n",
    "n = 0\n",
    "data = f.readlines()\n",
    "for line in data:\n",
    "    line = line.lower()\n",
    "    n = n + 1\n",
    "    words = re.split('[^a-z]', line)\n",
    "    for word in words:\n",
    "        if word == \"\" or word == None:\n",
    "            continue\n",
    "        else:\n",
    "            if not mn.get(word):\n",
    "                m[d] = word\n",
    "                mn[word] = d\n",
    "                d = d + 1\n",
    "\n",
    "A=[]\n",
    "print (d)\n",
    "\n",
    "for line in data:\n",
    "    line = line.lower()\n",
    "    n_array = [0] * d\n",
    "    for i in range(d):\n",
    "        n_array[i] = int(line.split().count(m[i]))\n",
    "    A.append(list(n_array))\n",
    "\n",
    "\n",
    "a = []\n",
    "for i in range(1, n):\n",
    "    pair = (distance.cosine(A[0], A[i]), i)\n",
    "    a.append(pair)\n",
    "a.sort()\n",
    "\n",
    "print (a[0], a[1])"
   ]
  },
  {
   "cell_type": "code",
   "execution_count": null,
   "metadata": {},
   "outputs": [],
   "source": []
  }
 ],
 "metadata": {
  "kernelspec": {
   "display_name": "Python 3",
   "language": "python",
   "name": "python3"
  },
  "language_info": {
   "codemirror_mode": {
    "name": "ipython",
    "version": 3
   },
   "file_extension": ".py",
   "mimetype": "text/x-python",
   "name": "python",
   "nbconvert_exporter": "python",
   "pygments_lexer": "ipython3",
   "version": "3.7.0"
  }
 },
 "nbformat": 4,
 "nbformat_minor": 2
}
