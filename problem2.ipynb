{
 "cells": [
  {
   "cell_type": "code",
   "execution_count": 11,
   "metadata": {},
   "outputs": [
    {
     "name": "stdout",
     "output_type": "stream",
     "text": [
      "4.36 -1.3 0.19 -0.01\n"
     ]
    }
   ],
   "source": [
    "import numpy as np;\n",
    "import scipy.linalg as sl;\n",
    "import matplotlib.pyplot;\n",
    "\n",
    "def function(x):\n",
    "    return np.sin(x / 5.0) * np.exp(x / 10.0) + 5 * np.exp(-x / 2.0);\n",
    "\n",
    "A_1 = [\n",
    "    [1 ** n for n in range(2)],\n",
    "    [15 ** n for n in range(2)]\n",
    "];\n",
    "b_1 = [function(1), function(15)];\n",
    "sl.solve(A_1, b_1);\n",
    "\n",
    "A_2 = [\n",
    "    [1 ** n for n in range(3)],\n",
    "    [8 ** n for n in range(3)],\n",
    "    [15 ** n for n in range(3)]\n",
    "];\n",
    "b_2 = [function(1), function(8), function(15)];\n",
    "sl.solve(A_2, b_2);\n",
    "\n",
    "A_3 = [\n",
    "    [1 ** n for n in range(4)],\n",
    "    [4 ** n for n in range(4)],\n",
    "    [10 ** n for n in range(4)],\n",
    "    [15 ** n for n in range(4)]\n",
    "];\n",
    "b_3 = [function(1), function(4), function(10), function(15)];\n",
    "\n",
    "answer = sl.solve(A_3, b_3);\n",
    "print(answer[0], answer[1], answer[2], answer[3]);\n",
    "\n",
    "x = np.arange(0, 16, .1);\n",
    "\n",
    "matplotlib.pyplot.plot(x, y, label = 'Initial');\n",
    "matplotlib.pyplot.plot(x, y1, label = 'Linear');\n",
    "matplotlib.pyplot.plot(x, y2, label = 'Quadratic');\n",
    "matplotlib.pyplot.plot(x, y3, label = 'Cubic');\n",
    "matplotlib.pyplot.legend();\n",
    "matplotlib.pyplot.show();"
   ]
  },
  {
   "cell_type": "code",
   "execution_count": null,
   "metadata": {},
   "outputs": [],
   "source": []
  }
 ],
 "metadata": {
  "kernelspec": {
   "display_name": "Python 2",
   "language": "python",
   "name": "python2"
  },
  "language_info": {
   "codemirror_mode": {
    "name": "ipython",
    "version": 2
   },
   "file_extension": ".py",
   "mimetype": "text/x-python",
   "name": "python",
   "nbconvert_exporter": "python",
   "pygments_lexer": "ipython2",
   "version": "2.7.15"
  }
 },
 "nbformat": 4,
 "nbformat_minor": 2
}
